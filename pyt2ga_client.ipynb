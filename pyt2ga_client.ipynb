{
 "cells": [
  {
   "cell_type": "code",
   "execution_count": null,
   "id": "89056cc7",
   "metadata": {},
   "outputs": [],
   "source": [
    "# PLAN FOR pyt2ga through service devel/validate\n",
    "\n",
    "# Get Christian dataframe\n",
    "\n",
    "# Extract GO term through Unigo.yield w/out abundance filtering !!!\n",
    "\n",
    "# Filter w/ min/max member boundaries\n",
    "\n",
    "# Get String matrix of each pathway\n",
    "\n",
    "# Run pyT2GA.TS\n"
   ]
  }
 ],
 "metadata": {
  "kernelspec": {
   "display_name": "pyqy_deploy_p39",
   "language": "python",
   "name": "pyqy_deploy_p39"
  },
  "language_info": {
   "codemirror_mode": {
    "name": "ipython",
    "version": 3
   },
   "file_extension": ".py",
   "mimetype": "text/x-python",
   "name": "python",
   "nbconvert_exporter": "python",
   "pygments_lexer": "ipython3",
   "version": "3.9.2"
  }
 },
 "nbformat": 4,
 "nbformat_minor": 5
}
